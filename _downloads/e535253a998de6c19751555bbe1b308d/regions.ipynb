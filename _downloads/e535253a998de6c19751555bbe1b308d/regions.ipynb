{
  "cells": [
    {
      "cell_type": "markdown",
      "metadata": {},
      "source": [
        "\n# Regions\n\nExample of using TetGen to create a tetrahedral mesh with regions.\n"
      ]
    },
    {
      "cell_type": "code",
      "execution_count": null,
      "metadata": {
        "collapsed": false
      },
      "outputs": [],
      "source": [
        "import numpy as np\nimport pyvista as pv\nimport tetgen\n\n# we create a box of air with two spheres inside it\nr = 0.1  # 100mm, radius of the spheres\nL = 0.5  # 500mm, distance of centers\n# this would give a capacitance of around 6.99pF between the two spheres\n\n# create geometries\nairbox = pv.Cube(center=[0, 0, 0], x_length=3 * L, y_length=L, z_length=L).triangulate()\nsphere1 = pv.Sphere(theta_resolution=16, phi_resolution=16, center=[-L / 2, 0, 0], radius=r)\nsphere2 = pv.Sphere(theta_resolution=16, phi_resolution=16, center=[L / 2, 0, 0], radius=r)\n\n# merge the geometries\nmesh = pv.merge([sphere1, sphere2, airbox])\n\n# create a plotter\nplotter = pv.Plotter(shape=(1, 2))\n\n# plot the input mesh\nplotter.add_mesh(mesh, show_edges=True, opacity=0.5, label=\"Input Mesh\")\nplotter.add_text(\"Input Mesh\", font_size=10)\n\n# create a subplot for the tetrahedralized mesh\nplotter.subplot(0, 1)\nplotter.add_text(\"Tetrahedralized Mesh\", font_size=10)\n\n# tetrahedralize the mesh using TetGen\ntgen = tetgen.TetGen(mesh)\n\n# add regions to the TetGen object\nV_sphere = 4 / 3 * np.pi * r**3\ntgen.add_region(100, [-L / 2, 0, 0], V_sphere / 5000)  # sphere 1\ntgen.add_region(200, [L / 2, 0, 0], V_sphere / 5000)  # sphere 2\ntgen.add_region(300, [L * 1.5, 0, 0], V_sphere / 100)  # airbox\n\n# tetrahedralize the mesh with specified switches\nnodes, elem, attrib = tgen.tetrahedralize(switches=\"pzq1.4Aa\")\n\ngrid = tgen.grid\n\n# retrieve the region IDs from the attributes\nregions = np.unique(attrib[:, 0])\n\n# plot regions with different colors and opacities\nfor reg_id in regions:\n    name = f\"Region {reg_id}\"\n    reg_mask = attrib[:, 0] == reg_id\n    subgrid = grid.extract_cells(reg_mask)\n\n    if reg_id == 100:\n        color = \"red\"\n    elif reg_id == 200:\n        color = \"blue\"\n    else:\n        color = \"white\"\n\n    if reg_id < 300:\n        opacity = 1.0\n    else:\n        opacity = 0.25\n\n    plotter.add_mesh(subgrid, show_edges=True, color=color, opacity=opacity, label=name)\n\n\nplotter.add_legend()\nplotter.link_views()\n\n# finally show the results\nplotter.show()"
      ]
    }
  ],
  "metadata": {
    "kernelspec": {
      "display_name": "Python 3",
      "language": "python",
      "name": "python3"
    },
    "language_info": {
      "codemirror_mode": {
        "name": "ipython",
        "version": 3
      },
      "file_extension": ".py",
      "mimetype": "text/x-python",
      "name": "python",
      "nbconvert_exporter": "python",
      "pygments_lexer": "ipython3",
      "version": "3.11.13"
    }
  },
  "nbformat": 4,
  "nbformat_minor": 0
}