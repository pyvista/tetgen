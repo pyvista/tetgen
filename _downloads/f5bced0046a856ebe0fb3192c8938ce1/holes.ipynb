{
  "cells": [
    {
      "cell_type": "markdown",
      "metadata": {},
      "source": [
        "\n# Holes\n\nExample of using TetGen to create a tetrahedral mesh with holes.\n"
      ]
    },
    {
      "cell_type": "code",
      "execution_count": null,
      "metadata": {
        "collapsed": false
      },
      "outputs": [],
      "source": [
        "import pyvista as pv\nimport tetgen\n\n# create a cube with two spheres inside it\ncube = pv.Cube(x_length=2).triangulate()\nsphere1 = pv.Sphere(center=[-0.5, 0.0, 0.0], theta_resolution=16, phi_resolution=16, radius=0.25)\nsphere2 = pv.Sphere(center=[0.5, 0.0, 0.0], theta_resolution=16, phi_resolution=16, radius=0.1)\n\n# merge the geometries\nmesh = pv.merge([cube, sphere1, sphere2])\n\ntgen = tetgen.TetGen(mesh)\n\n# add the center of the spheres as holes\ntgen.add_hole([-0.5, 0.0, 0.0])\ntgen.add_hole([0.5, 0.0, 0.0])\n\n# tetrahedralize the mesh using TetGen\nnodes, elem = tgen.tetrahedralize(switches=\"pzq1.4\")\ngrid = tgen.grid\n\n# plot a slice to see the holes\ngrid.clip(normal=\"z\").plot(show_edges=True)"
      ]
    }
  ],
  "metadata": {
    "kernelspec": {
      "display_name": "Python 3",
      "language": "python",
      "name": "python3"
    },
    "language_info": {
      "codemirror_mode": {
        "name": "ipython",
        "version": 3
      },
      "file_extension": ".py",
      "mimetype": "text/x-python",
      "name": "python",
      "nbconvert_exporter": "python",
      "pygments_lexer": "ipython3",
      "version": "3.11.13"
    }
  },
  "nbformat": 4,
  "nbformat_minor": 0
}