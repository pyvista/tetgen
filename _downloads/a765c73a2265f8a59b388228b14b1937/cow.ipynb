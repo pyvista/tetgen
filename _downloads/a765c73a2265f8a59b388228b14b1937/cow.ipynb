{
  "cells": [
    {
      "cell_type": "markdown",
      "metadata": {},
      "source": [
        "\n# Cow\n\nTetrahedralize a cow mesh.\n"
      ]
    },
    {
      "cell_type": "code",
      "execution_count": null,
      "metadata": {
        "collapsed": false
      },
      "outputs": [],
      "source": [
        "# sphinx_gallery_thumbnail_number = 3\nimport numpy as np\nimport pyvista as pv\nfrom pyvista import examples\nimport tetgen"
      ]
    },
    {
      "cell_type": "code",
      "execution_count": null,
      "metadata": {
        "collapsed": false
      },
      "outputs": [],
      "source": [
        "cow_mesh = examples.download_cow().triangulate()\n\ncpos = [(13.0, 7.6, -13.85), (0.44, -0.4, -0.37), (-0.28, 0.9, 0.3)]\n\ncpos = [\n    (15.87144235049248, 4.879216382405231, -12.14248864876951),\n    (1.1623113035352375, -0.7609060338348953, 0.3192320579894903),\n    (-0.19477922834083672, 0.9593375398915212, 0.20428542963665386),\n]\n\ncow_mesh.plot(cpos=cpos)"
      ]
    },
    {
      "cell_type": "code",
      "execution_count": null,
      "metadata": {
        "collapsed": false
      },
      "outputs": [],
      "source": [
        "tet = tetgen.TetGen(cow_mesh)\ntet.make_manifold()\ntet.tetrahedralize()\n\ncow_grid = tet.grid"
      ]
    },
    {
      "cell_type": "code",
      "execution_count": null,
      "metadata": {
        "collapsed": false
      },
      "outputs": [],
      "source": [
        "# plot half the cow\nmask = np.logical_or(cow_grid.points[:, 0] < 0, cow_grid.points[:, 0] > 4)\nhalf_cow = cow_grid.extract_points(mask)"
      ]
    },
    {
      "cell_type": "code",
      "execution_count": null,
      "metadata": {
        "collapsed": false
      },
      "outputs": [],
      "source": [
        "pl = pv.Plotter()\npl.add_mesh(half_cow, color=\"w\", show_edges=True)\npl.add_mesh(cow_grid, color=\"r\", style=\"wireframe\", opacity=0.2)\npl.camera_position = cpos\npl.show()"
      ]
    },
    {
      "cell_type": "markdown",
      "metadata": {},
      "source": [
        "Make animation of the mesh construction\n\n"
      ]
    },
    {
      "cell_type": "code",
      "execution_count": null,
      "metadata": {
        "collapsed": false
      },
      "outputs": [],
      "source": [
        "pl = pv.Plotter(off_screen=True, window_size=[1000, 1000])\npl.open_gif(\"cow.gif\")\npl.add_mesh(cow_grid, color=\"r\", style=\"wireframe\", opacity=0.2)\npl.camera_position = cpos\npl.write_frame()\n\nnframe = 36\nxb = np.array(cow_grid.bounds[0:2])\nstep = np.ptp(xb) / nframe\nfor val in np.arange(xb[0] + step, xb[1] + step, step):\n    mask = np.argwhere(cow_grid.cell_centers().points[:, 0] < val)\n    half_cow = cow_grid.extract_cells(mask)\n    pl.add_mesh(half_cow, color=\"w\", show_edges=True, name=\"building\")\n    pl.update()\n    pl.write_frame()\n\npl.close()"
      ]
    }
  ],
  "metadata": {
    "kernelspec": {
      "display_name": "Python 3",
      "language": "python",
      "name": "python3"
    },
    "language_info": {
      "codemirror_mode": {
        "name": "ipython",
        "version": 3
      },
      "file_extension": ".py",
      "mimetype": "text/x-python",
      "name": "python",
      "nbconvert_exporter": "python",
      "pygments_lexer": "ipython3",
      "version": "3.11.13"
    }
  },
  "nbformat": 4,
  "nbformat_minor": 0
}