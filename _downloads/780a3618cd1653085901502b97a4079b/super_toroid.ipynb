{
  "cells": [
    {
      "cell_type": "markdown",
      "metadata": {},
      "source": [
        "\n# Super Toroid\n\nTetrahedralize a super toroid surface.\n"
      ]
    },
    {
      "cell_type": "code",
      "execution_count": null,
      "metadata": {
        "collapsed": false
      },
      "outputs": [],
      "source": [
        "# sphinx_gallery_thumbnail_number = 2\nimport pyvista as pv\nimport tetgen"
      ]
    },
    {
      "cell_type": "markdown",
      "metadata": {},
      "source": [
        "Create and tetrahedralize a super torid.\n\nWe merge the points here to make sure that the surface is manifold.\n\n"
      ]
    },
    {
      "cell_type": "code",
      "execution_count": null,
      "metadata": {
        "collapsed": false
      },
      "outputs": [],
      "source": [
        "toroid = pv.ParametricSuperToroid(u_res=50, v_res=50, w_res=50).clean(tolerance=1e-9)\ntet = tetgen.TetGen(toroid)\ntet.tetrahedralize(order=1, mindihedral=20, minratio=1.5)\ngrid = tet.grid\ngrid.plot()"
      ]
    },
    {
      "cell_type": "markdown",
      "metadata": {},
      "source": [
        "Plot the tessellated mesh.\n\n"
      ]
    },
    {
      "cell_type": "code",
      "execution_count": null,
      "metadata": {
        "collapsed": false
      },
      "outputs": [],
      "source": [
        "# get cell centroids\ncells = grid.cells.reshape(-1, 5)[:, 1:]\ncell_center = grid.points[cells].mean(1)\n\n# extract cells below the 0 xy plane\nmask = cell_center[:, 2] < 0\ncell_ind = mask.nonzero()[0]\nsubgrid = grid.extract_cells(cell_ind)\n\n# advanced plotting\nplotter = pv.Plotter()\nplotter.add_mesh(subgrid, color=\"lightgrey\", lighting=True, show_edges=True)\nplotter.add_mesh(toroid, color=\"r\", style=\"wireframe\")\nplotter.add_legend([[\" Input Mesh \", \"r\"], [\" Tessellated Mesh \", \"black\"]])\nplotter.show()"
      ]
    },
    {
      "cell_type": "markdown",
      "metadata": {},
      "source": [
        "Show the cell quality\n\n"
      ]
    },
    {
      "cell_type": "code",
      "execution_count": null,
      "metadata": {
        "collapsed": false
      },
      "outputs": [],
      "source": [
        "cell_qual = subgrid.cell_quality()[\"scaled_jacobian\"]\nsubgrid.plot(\n    scalars=cell_qual,\n    scalar_bar_args={\"title\": \"Cell Quality\"},\n    cmap=\"bwr\",\n    clim=[0, 1],\n    flip_scalars=True,\n    show_edges=True,\n)"
      ]
    }
  ],
  "metadata": {
    "kernelspec": {
      "display_name": "Python 3",
      "language": "python",
      "name": "python3"
    },
    "language_info": {
      "codemirror_mode": {
        "name": "ipython",
        "version": 3
      },
      "file_extension": ".py",
      "mimetype": "text/x-python",
      "name": "python",
      "nbconvert_exporter": "python",
      "pygments_lexer": "ipython3",
      "version": "3.11.13"
    }
  },
  "nbformat": 4,
  "nbformat_minor": 0
}