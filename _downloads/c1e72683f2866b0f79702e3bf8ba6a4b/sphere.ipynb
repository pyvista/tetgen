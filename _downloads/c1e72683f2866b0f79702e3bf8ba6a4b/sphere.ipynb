{
  "cells": [
    {
      "cell_type": "markdown",
      "metadata": {},
      "source": [
        "\n# Using external modules to create a mesh\n\nTetrahedralize a sphere\n"
      ]
    },
    {
      "cell_type": "code",
      "execution_count": null,
      "metadata": {
        "collapsed": false
      },
      "outputs": [],
      "source": [
        "# sphinx_gallery_thumbnail_number = 2\nimport pyvista as pv\nimport tetgen"
      ]
    },
    {
      "cell_type": "markdown",
      "metadata": {},
      "source": [
        "# Using PyVista\nCreate a surface mesh using ``pyvista`` and then tetrahedralize it.\n\n"
      ]
    },
    {
      "cell_type": "code",
      "execution_count": null,
      "metadata": {
        "collapsed": false
      },
      "outputs": [],
      "source": [
        "sphere = pv.Sphere()\ntet = tetgen.TetGen(sphere)\ntet.tetrahedralize(order=1, mindihedral=20, minratio=1.5)\ngrid = tet.grid\ngrid.plot(show_edges=True)"
      ]
    },
    {
      "cell_type": "markdown",
      "metadata": {},
      "source": [
        "Use pyvista to plot\n\n"
      ]
    },
    {
      "cell_type": "code",
      "execution_count": null,
      "metadata": {
        "collapsed": false
      },
      "outputs": [],
      "source": [
        "# get cell centroids\ncell_center = grid.cell_centers().points\n\n# extract cells below the 0 xy plane\nmask = cell_center[:, 2] < 0\ncell_ind = mask.nonzero()[0]\nsubgrid = grid.extract_cells(cell_ind)\n\n# advanced plotting\nplotter = pv.Plotter()\nplotter.add_mesh(subgrid, \"lightgrey\", lighting=True, show_edges=True)\nplotter.add_mesh(sphere, \"r\", \"wireframe\")\nplotter.add_legend([[\" Input Mesh \", \"r\"], [\" Tessellated Mesh \", \"black\"]])\nplotter.show()"
      ]
    },
    {
      "cell_type": "markdown",
      "metadata": {},
      "source": [
        "Use pyvista to compute cell quality.  This is the minimum scaled\njacobian of each cell.\n\n"
      ]
    },
    {
      "cell_type": "code",
      "execution_count": null,
      "metadata": {
        "collapsed": false
      },
      "outputs": [],
      "source": [
        "cell_qual = subgrid.cell_quality()[\"scaled_jacobian\"]\nprint(f\"Mean cell quality: {cell_qual.mean():.3}\")\n\n# plot quality\nsubgrid.plot(\n    scalars=cell_qual,\n    scalar_bar_args={\"title\": \"Quality\"},\n    cmap=\"bwr\",\n    clim=[0, 1],\n    flip_scalars=True,\n    show_edges=True,\n)"
      ]
    },
    {
      "cell_type": "markdown",
      "metadata": {},
      "source": [
        "# Using pyacvd\n\nWe can use [pyacvd](https://github.com/pyvista/pyacvd) to create a\nmore uniform mesh using the mesh generated from ``pyvista``.  We can\nuse the ``pyacvd`` module to generate a more uniform surface mesh\nand then tetrahedralize that.\n\nHere we re-run the above example, except using a more uniform surface\n\n"
      ]
    },
    {
      "cell_type": "code",
      "execution_count": null,
      "metadata": {
        "collapsed": false
      },
      "outputs": [],
      "source": [
        "import pyacvd\n\nn_surf = 1000\n\nclustered = pyacvd.Clustering(sphere)\nclustered.subdivide(2)\nclustered.cluster(n_surf)\nuniform_surf = clustered.create_mesh()\n\n# generate interior mesh and plot the surface of it\ntet = tetgen.TetGen(uniform_surf)\ntet.tetrahedralize(order=1, mindihedral=20, minratio=1.5)\nuniform_grid = tet.grid\nuniform_grid.plot(show_edges=True)"
      ]
    },
    {
      "cell_type": "markdown",
      "metadata": {},
      "source": [
        "Plot the cross section of the tetrahedralization\n\n"
      ]
    },
    {
      "cell_type": "code",
      "execution_count": null,
      "metadata": {
        "collapsed": false
      },
      "outputs": [],
      "source": [
        "cell_center = uniform_grid.cell_centers().points\n\n# extract cells below the 0 xy plane\nmask = cell_center[:, 2] < 0\ncell_ind = mask.nonzero()[0]\nsubgrid = uniform_grid.extract_cells(cell_ind)\n\ncell_qual = subgrid.compute_cell_quality()[\"CellQuality\"]\nprint(f\"Mean cell quality: {cell_qual.mean():.3}\")\n\n# plot quality\nsubgrid.plot(\n    scalars=cell_qual,\n    scalar_bar_args={\"title\": \"Quality\"},\n    cmap=\"bwr\",\n    clim=[0, 1],\n    flip_scalars=True,\n    show_edges=True,\n)"
      ]
    }
  ],
  "metadata": {
    "kernelspec": {
      "display_name": "Python 3",
      "language": "python",
      "name": "python3"
    },
    "language_info": {
      "codemirror_mode": {
        "name": "ipython",
        "version": 3
      },
      "file_extension": ".py",
      "mimetype": "text/x-python",
      "name": "python",
      "nbconvert_exporter": "python",
      "pygments_lexer": "ipython3",
      "version": "3.11.13"
    }
  },
  "nbformat": 4,
  "nbformat_minor": 0
}